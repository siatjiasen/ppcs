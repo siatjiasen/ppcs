{
 "cells": [
  {
   "cell_type": "markdown",
   "metadata": {},
   "source": [
    "# Complexity Analysis"
   ]
  },
  {
   "cell_type": "code",
   "execution_count": null,
   "metadata": {},
   "outputs": [],
   "source": [
    "%matplotlib inline\n",
    "\n",
    "import time\n",
    "\n",
    "import matplotlib as mpl\n",
    "import matplotlib.pyplot as plt\n",
    "import numpy as np\n",
    "\n",
    "mpl.rc(\"xtick\", labelsize=20)\n",
    "mpl.rc(\"ytick\", labelsize=20)\n",
    "mpl.rcParams[\"text.usetex\"] = True\n",
    "mpl.rcParams[\"text.latex.preamble\"] = r\"\\usepackage{amsmath}\"\n",
    "\n",
    "from sympy import *\n",
    "\n",
    "import optpoly"
   ]
  },
  {
   "cell_type": "markdown",
   "metadata": {},
   "source": [
    "## Parameters"
   ]
  },
  {
   "cell_type": "code",
   "execution_count": null,
   "metadata": {},
   "outputs": [],
   "source": [
    "l = 0\n",
    "L = 1"
   ]
  },
  {
   "cell_type": "code",
   "execution_count": null,
   "metadata": {},
   "outputs": [],
   "source": [
    "(c, _) = optpoly.l_2_opt(3, l, L, verbose=True)\n",
    "(C, _) = optpoly.l_2_opt(7, l, L, verbose=True)"
   ]
  },
  {
   "cell_type": "markdown",
   "metadata": {},
   "source": [
    "## Timing"
   ]
  },
  {
   "cell_type": "code",
   "execution_count": null,
   "metadata": {},
   "outputs": [],
   "source": [
    "N = 20\n",
    "d_axis = list(range(2, 10))\n",
    "t_axis = []\n",
    "for d in d_axis:\n",
    "    time_taken = 0\n",
    "    print(f\"On {d}.\")\n",
    "    for k in range(N):\n",
    "        start_time = time.time()\n",
    "        optpoly.l_2_opt(d, l, L, verbose=False)\n",
    "        end_time = time.time()\n",
    "        time_taken += end_time - start_time\n",
    "    time_taken = time_taken / N\n",
    "    t_axis.append(time_taken)"
   ]
  },
  {
   "cell_type": "code",
   "execution_count": null,
   "metadata": {},
   "outputs": [],
   "source": [
    "fig, axs = plt.subplots(1, 1, figsize=(15, 10), dpi=150)\n",
    "axs.plot(d_axis, t_axis)\n",
    "axs.grid()\n",
    "axs.set_xlabel(r\"Degree of polynomial $(d)$\", fontsize=24)\n",
    "axs.set_ylabel(r\"Time Taken $(s)$\", fontsize=24);"
   ]
  },
  {
   "cell_type": "markdown",
   "metadata": {},
   "source": [
    "## Plots"
   ]
  },
  {
   "cell_type": "code",
   "execution_count": null,
   "metadata": {},
   "outputs": [],
   "source": [
    "x = symbols(\"x\")\n",
    "ax_x = np.linspace(l, L, 2000 + 1)"
   ]
  },
  {
   "cell_type": "code",
   "execution_count": null,
   "metadata": {},
   "outputs": [],
   "source": [
    "def eval_poly(c):\n",
    "    if c.size == 1:\n",
    "        return c[0]\n",
    "    return c[0] + ax_x * eval_poly(c[1:])"
   ]
  },
  {
   "cell_type": "code",
   "execution_count": null,
   "metadata": {},
   "outputs": [],
   "source": [
    "f_pgd = np.abs(1 - ax_x) ** (3 + 1)\n",
    "f_ppgd = np.abs(1 - eval_poly(c) * ax_x)\n",
    "f_PPGD = np.abs(1 - eval_poly(C) * ax_x)"
   ]
  },
  {
   "cell_type": "code",
   "execution_count": null,
   "metadata": {},
   "outputs": [],
   "source": [
    "fig, axs = plt.subplots(2, 1, figsize=(18, 18), dpi=150)\n",
    "\n",
    "axs[0].plot(ax_x, 100 * f_pgd)\n",
    "axs[0].plot(ax_x, 100 * f_ppgd)\n",
    "axs[0].plot([], [])\n",
    "\n",
    "axs[1].plot(ax_x, 100 * f_pgd ** 2)\n",
    "axs[1].plot(ax_x, 100 * f_ppgd ** 2)\n",
    "axs[1].plot(ax_x, 100 * f_PPGD)\n",
    "\n",
    "axs[0].legend(\n",
    "    [\n",
    "        \"PGD\",\n",
    "        \"Poly. Precond. PGD (Degree 3)\",\n",
    "        \"Not Completed\\nPoly. Precond. PGD (Degree 7)\",\n",
    "    ],\n",
    "    fontsize=24,\n",
    ")\n",
    "axs[1].legend(\n",
    "    [\"PGD\", \"Poly. Precond. PGD (Degree 3)\", \"Poly. Precond. PGD (Degree 7)\"],\n",
    "    fontsize=24,\n",
    ")\n",
    "\n",
    "axs[0].set_title(\n",
    "    \"A. Iteration Progress after $%d\\;A^*A$ Evaluations\" % (3 + 1), fontsize=32\n",
    ")\n",
    "axs[1].set_title(\n",
    "    \"B. Iteration Progress after $%d\\;A^*A$ Evaluations\" % (7 + 1), fontsize=32\n",
    ")\n",
    "\n",
    "for ax in axs.ravel():\n",
    "    ax.grid()\n",
    "    ax.set_xlabel(r\"Spectrum of $A^*A$\", fontsize=24)\n",
    "    ax.set_ylabel(\"Error versus Iterate Limit (\\%)\", fontsize=24)"
   ]
  },
  {
   "cell_type": "markdown",
   "metadata": {},
   "source": [
    "## Done."
   ]
  }
 ],
 "metadata": {
  "kernelspec": {
   "display_name": "Python [conda env:ppcs]",
   "language": "python",
   "name": "conda-env-ppcs-py"
  },
  "language_info": {
   "codemirror_mode": {
    "name": "ipython",
    "version": 3
   },
   "file_extension": ".py",
   "mimetype": "text/x-python",
   "name": "python",
   "nbconvert_exporter": "python",
   "pygments_lexer": "ipython3",
   "version": "3.10.6"
  }
 },
 "nbformat": 4,
 "nbformat_minor": 2
}
